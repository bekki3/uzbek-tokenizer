{
 "cells": [
  {
   "cell_type": "code",
   "execution_count": 1,
   "metadata": {},
   "outputs": [],
   "source": [
    "from datasets import load_dataset\n",
    "from tokenizers import Tokenizer, models, trainers, pre_tokenizers\n",
    "import os\n",
    "import re\n",
    "\n",
    "\n",
    "DIR_RAW_DATASET = \"./raw_dataset\"\n",
    "DIR_PROCESSED_DATASET = \"./processed_dataset\"\n",
    "FILE_UZ_BOOKS = \"uz_books.txt\"\n",
    "FILES_UZ_CORPORA = [\n",
    "    \"uzb_community_2017-sentences.txt\",\n",
    "    \"uzb_news_2020_30K-sentences.txt\",\n",
    "    \"uzb_newscrawl_2011_100K-sentences.txt\",\n",
    "    \"uzb_wikipedia_2021_100K-sentences.txt\"\n",
    "]"
   ]
  },
  {
   "cell_type": "markdown",
   "metadata": {},
   "source": [
    "### Download the dataset of 40,000 Latin script Uzbek books from hugging-face"
   ]
  },
  {
   "cell_type": "code",
   "execution_count": null,
   "metadata": {},
   "outputs": [],
   "source": [
    "books = load_dataset(\"tahrirchi/uz-books\", split=\"lat\")\n",
    "\n",
    "with open(os.path.join(DIR_RAW_DATASET, FILE_UZ_BOOKS), \"w\", encoding=\"utf-8\") as f:\n",
    "    for book in books:\n",
    "        f.write(book[\"text\"] + \"\\n\")\n",
    "\n",
    "books = []"
   ]
  },
  {
   "cell_type": "markdown",
   "metadata": {},
   "source": [
    "### Process the Uz-books dataset: Remove new-lines and cyrillic script."
   ]
  },
  {
   "cell_type": "code",
   "execution_count": null,
   "metadata": {},
   "outputs": [],
   "source": [
    "input_path = os.path.join(DIR_RAW_DATASET, FILE_UZ_BOOKS)\n",
    "output_path = os.path.join(DIR_PROCESSED_DATASET, FILE_UZ_BOOKS)\n",
    "\n",
    "chunk_size = 100 * 1024 * 1024  # 100MB Adjust as needed\n",
    "\n",
    "def process_text(text):\n",
    "    text = text.replace(\"\\n\\n\", \"¶\")\n",
    "    text = text.replace(\"\\n\", \" \")\n",
    "    text = text.replace(\"¶\", \"\\n\\n\")\n",
    "    text = re.sub(r'[\\u0400-\\u04FF]+', '', text)\n",
    "    return text\n",
    "\n",
    "with open(input_path, 'r', encoding='utf-8') as infile, \\\n",
    "     open(output_path, 'w', encoding='utf-8') as outfile:\n",
    "\n",
    "    remainder = \"\"\n",
    "    while True:\n",
    "        chunk = infile.read(chunk_size)\n",
    "        if not chunk:\n",
    "            if remainder:\n",
    "                processed = process_text(remainder)\n",
    "                outfile.write(processed)\n",
    "            break\n",
    "\n",
    "        combined = remainder + chunk\n",
    "        last_newline_index = combined.rfind(\"\\n\")\n",
    "        if last_newline_index == -1:\n",
    "            remainder = combined\n",
    "            continue\n",
    "\n",
    "        to_process = combined[:last_newline_index]\n",
    "        remainder = combined[last_newline_index:]\n",
    "        \n",
    "        processed = process_text(to_process)\n",
    "        outfile.write(processed)\n",
    "\n",
    "    if remainder:\n",
    "        processed = process_text(remainder)\n",
    "        outfile.write(processed)"
   ]
  },
  {
   "cell_type": "markdown",
   "metadata": {},
   "source": [
    "### Process the Uzbek Corpora dataset: Remove new-lines and cyrillic script."
   ]
  },
  {
   "cell_type": "code",
   "execution_count": null,
   "metadata": {},
   "outputs": [],
   "source": [
    "index_pattern = re.compile(r'^\\S+\\s+')\n",
    "cyrillic_pattern = re.compile(r'[\\u0400-\\u04FF]')\n",
    "\n",
    "for file_name in FILES_UZ_CORPORA:\n",
    "    input_path = os.path.join(DIR_RAW_DATASET, file_name)\n",
    "    output_path = os.path.join(DIR_PROCESSED_DATASET, file_name)\n",
    "    processed_lines = []\n",
    "    \n",
    "    with open(input_path, 'r', encoding='utf-8') as infile:\n",
    "        for line in infile:\n",
    "            line = re.sub(index_pattern, '', line)\n",
    "            if cyrillic_pattern.search(line):\n",
    "                continue\n",
    "            processed_lines.append(line.strip())\n",
    "    \n",
    "    with open(output_path, 'w', encoding='utf-8') as outfile:\n",
    "        outfile.write(\"\\n\".join(processed_lines))"
   ]
  },
  {
   "cell_type": "markdown",
   "metadata": {},
   "source": [
    "## Tokenization"
   ]
  },
  {
   "cell_type": "code",
   "execution_count": null,
   "metadata": {},
   "outputs": [
    {
     "name": "stdout",
     "output_type": "stream",
     "text": [
      "Final vocabulary size: 10000\n",
      "Uzbek tokens saved to 'uzbek_tokens.txt'.\n"
     ]
    }
   ],
   "source": [
    "files = [os.path.join(DIR_PROCESSED_DATASET, FILE_UZ_BOOKS)] + \\\n",
    "        [os.path.join(DIR_PROCESSED_DATASET, f) for f in FILES_UZ_CORPORA]\n",
    "\n",
    "tokenizer_uzbek = Tokenizer(models.BPE())\n",
    "\n",
    "tokenizer_uzbek.pre_tokenizer = pre_tokenizers.ByteLevel(add_prefix_space=True)\n",
    "\n",
    "trainer = trainers.BpeTrainer(\n",
    "    vocab_size=10000,  #Adjust as needed\n",
    "    special_tokens=[\"[UNK]\", \"[PAD]\", \"[CLS]\", \"[SEP]\", \"[MASK]\"]\n",
    ")\n",
    "\n",
    "tokenizer_uzbek.train(files=files, trainer=trainer)\n",
    "\n",
    "tokenizer_uzbek.save(\"uzbek_tokenizer.json\")\n",
    "\n",
    "vocab = tokenizer_uzbek.get_vocab()\n",
    "\n",
    "sorted_vocab = sorted(vocab.items(), key=lambda x: x[1])\n",
    "\n",
    "output_lines = [f\"{idx}: {token}\" for token, idx in sorted_vocab]\n",
    "\n",
    "with open(\"uzbek_tokens.txt\", \"w\", encoding=\"utf-8\") as f:\n",
    "    f.write(\"\\n\".join(output_lines))\n",
    "\n",
    "print(\"Final vocabulary size:\", len(vocab))\n",
    "print(\"Uzbek tokens saved to 'uzbek_tokens.txt'.\")\n"
   ]
  },
  {
   "cell_type": "code",
   "execution_count": null,
   "metadata": {},
   "outputs": [],
   "source": []
  }
 ],
 "metadata": {
  "kernelspec": {
   "display_name": "unsloth",
   "language": "python",
   "name": "python3"
  },
  "language_info": {
   "codemirror_mode": {
    "name": "ipython",
    "version": 3
   },
   "file_extension": ".py",
   "mimetype": "text/x-python",
   "name": "python",
   "nbconvert_exporter": "python",
   "pygments_lexer": "ipython3",
   "version": "3.11.10"
  }
 },
 "nbformat": 4,
 "nbformat_minor": 2
}
